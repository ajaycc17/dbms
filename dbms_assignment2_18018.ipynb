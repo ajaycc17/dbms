{
 "cells": [
  {
   "cell_type": "markdown",
   "metadata": {},
   "source": [
    "#### Ajay Choudhury (18018) - DBMS (DSE 310) - Assignment 2\n"
   ]
  },
  {
   "cell_type": "code",
   "execution_count": 1,
   "metadata": {},
   "outputs": [],
   "source": [
    "# importing required libraries\n",
    "from getpass import getpass\n",
    "import mysql.connector\n",
    "from mysql.connector import connect, Error\n"
   ]
  },
  {
   "cell_type": "code",
   "execution_count": 2,
   "metadata": {},
   "outputs": [],
   "source": [
    "# take credentials\n",
    "user = input(\"Enter username: \")\n",
    "passwd = getpass(\"Enter password: \")\n"
   ]
  },
  {
   "cell_type": "code",
   "execution_count": 3,
   "metadata": {},
   "outputs": [],
   "source": [
    "# create database\n",
    "try:\n",
    "    with connect(\n",
    "        host=\"localhost\",\n",
    "        user=user,\n",
    "        password=passwd,\n",
    "    ) as connection:\n",
    "        create_db = \"CREATE DATABASE assign2_18018\"\n",
    "        with connection.cursor() as cursor:\n",
    "            cursor.execute(create_db)\n",
    "except Error as e:\n",
    "    print(e)\n"
   ]
  },
  {
   "cell_type": "code",
   "execution_count": 4,
   "metadata": {},
   "outputs": [
    {
     "name": "stdout",
     "output_type": "stream",
     "text": [
      "('assign2_18018',)\n",
      "('information_schema',)\n",
      "('mysql',)\n",
      "('performance_schema',)\n",
      "('sakila',)\n",
      "('sys',)\n",
      "('world',)\n"
     ]
    }
   ],
   "source": [
    "# show all databases\n",
    "try:\n",
    "    with connect(\n",
    "        host=\"localhost\",\n",
    "        user=user,\n",
    "        password=passwd,\n",
    "    ) as connection:\n",
    "        list_all_db = \"SHOW DATABASES\"\n",
    "        with connection.cursor() as cursor:\n",
    "            cursor.execute(list_all_db)\n",
    "            for db in cursor:\n",
    "                print(db)\n",
    "except Error as e:\n",
    "    print(e)\n"
   ]
  },
  {
   "cell_type": "code",
   "execution_count": 23,
   "metadata": {},
   "outputs": [],
   "source": [
    "# connect to the database 'assign2_18018'\n",
    "connection = mysql.connector.connect(\n",
    "    host=\"localhost\",\n",
    "    user=user,\n",
    "    passwd=passwd,\n",
    "    database=\"assign2_18018\"\n",
    ")\n",
    "\n",
    "# create a cursor\n",
    "cursor = connection.cursor()\n"
   ]
  },
  {
   "cell_type": "code",
   "execution_count": 24,
   "metadata": {},
   "outputs": [],
   "source": [
    "# create tables - first is of songs\n",
    "song_table = \"\"\"\n",
    "CREATE TABLE songs (\n",
    "    id INT AUTO_INCREMENT PRIMARY KEY,\n",
    "    title VARCHAR(50) NOT NULL,\n",
    "    release_year YEAR(4),\n",
    "    genre VARCHAR(100),\n",
    "    revenue INT\n",
    "    )\n",
    "\"\"\"\n",
    "# ratings table\n",
    "ratings_table = \"\"\"\n",
    "CREATE TABLE ratings (\n",
    "    song_id INT,\n",
    "    rating DECIMAL(2,1),\n",
    "    FOREIGN KEY(song_id) REFERENCES songs(id),\n",
    "    PRIMARY KEY(song_id) \n",
    "    )\n",
    "\"\"\"\n",
    "# execute the commands\n",
    "cursor.execute(song_table)\n",
    "connection.commit()\n",
    "cursor.execute(ratings_table)\n",
    "connection.commit()\n"
   ]
  },
  {
   "cell_type": "code",
   "execution_count": 25,
   "metadata": {},
   "outputs": [
    {
     "name": "stdout",
     "output_type": "stream",
     "text": [
      "('id', b'int', 'NO', 'PRI', None, 'auto_increment')\n",
      "('title', b'varchar(50)', 'NO', '', None, '')\n",
      "('release_year', b'year', 'YES', '', None, '')\n",
      "('genre', b'varchar(100)', 'YES', '', None, '')\n",
      "('revenue', b'int', 'YES', '', None, '')\n"
     ]
    }
   ],
   "source": [
    "# describe songs table\n",
    "show_songs = \"DESCRIBE songs\"\n",
    "cursor.execute(show_songs)\n",
    "\n",
    "# Fetch rows from last executed query\n",
    "result = cursor.fetchall()\n",
    "for row in result:\n",
    "    print(row)\n"
   ]
  },
  {
   "cell_type": "code",
   "execution_count": 26,
   "metadata": {},
   "outputs": [
    {
     "name": "stdout",
     "output_type": "stream",
     "text": [
      "Songs Table Schema after alter command:\n",
      "('id', b'int', 'NO', 'PRI', None, 'auto_increment')\n",
      "('title', b'varchar(50)', 'NO', '', None, '')\n",
      "('release_year', b'year', 'YES', '', None, '')\n",
      "('genre', b'varchar(100)', 'YES', '', None, '')\n",
      "('revenue', b'decimal(4,1)', 'YES', '', None, '')\n"
     ]
    }
   ],
   "source": [
    "# alter songs table schema\n",
    "alter_songs = \"\"\"\n",
    "ALTER TABLE songs\n",
    "MODIFY COLUMN revenue DECIMAL(4,1)\n",
    "\"\"\"\n",
    "# describe songs table\n",
    "desc_songs = \"DESCRIBE songs\"\n",
    "cursor.execute(alter_songs)\n",
    "cursor.execute(desc_songs)\n",
    "\n",
    "# Fetch rows from last executed query\n",
    "result = cursor.fetchall()\n",
    "print(\"Songs Table Schema after alter command:\")\n",
    "for row in result:\n",
    "    print(row)\n"
   ]
  },
  {
   "cell_type": "code",
   "execution_count": 27,
   "metadata": {},
   "outputs": [
    {
     "name": "stdout",
     "output_type": "stream",
     "text": [
      "Temporary table created.\n",
      "All tables in the database are: \n",
      "('ratings',)\n",
      "('songs',)\n",
      "('temporary',)\n"
     ]
    }
   ],
   "source": [
    "# create a temporary table for dropping\n",
    "temporary_table = \"\"\"\n",
    "CREATE TABLE temporary(\n",
    "    id INT AUTO_INCREMENT PRIMARY KEY,\n",
    "    name VARCHAR(100)\n",
    ")\n",
    "\"\"\"\n",
    "# execute the create table command\n",
    "cursor.execute(temporary_table)\n",
    "connection.commit()\n",
    "print(\"Temporary table created.\")\n",
    "\n",
    "# show all tables\n",
    "print(\"All tables in the database are: \")\n",
    "show_all_tables = \"SHOW TABLES\"\n",
    "cursor.execute(show_all_tables)\n",
    "for table in cursor:\n",
    "    print(table)\n"
   ]
  },
  {
   "cell_type": "code",
   "execution_count": 28,
   "metadata": {},
   "outputs": [
    {
     "name": "stdout",
     "output_type": "stream",
     "text": [
      "Temporary table dropped.\n",
      "All tables in the database after drop command are: \n",
      "('ratings',)\n",
      "('songs',)\n"
     ]
    }
   ],
   "source": [
    "# drop the temporary table\n",
    "drop_table = \"DROP TABLE temporary\"\n",
    "cursor.execute(drop_table)\n",
    "print(\"Temporary table dropped.\")\n",
    "\n",
    "# show all tables\n",
    "print(\"All tables in the database after drop command are: \")\n",
    "show_all_tables = \"SHOW TABLES\"\n",
    "cursor.execute(show_all_tables)\n",
    "for table in cursor:\n",
    "    print(table)\n"
   ]
  },
  {
   "cell_type": "code",
   "execution_count": 29,
   "metadata": {},
   "outputs": [],
   "source": [
    "# insert instances in the songs table\n",
    "insert_songs = \"\"\"\n",
    "INSERT INTO songs (title, release_year, genre, revenue)\n",
    "VALUES\n",
    "    (\"Kyun Dil Mera\", 2015, \"Romance\", 150.2),\n",
    "    (\"Sun zara\", 2009, \"Feel Good\", 20.4),\n",
    "    (\"Tera Woh Pyar\", 2019, \"Romance\", 63.5),\n",
    "    (\"Baarish\", 2018, \"Feel Good\", 140.1),\n",
    "    (\"Jee Le Zaraa\", 2014, \"Sad\", 123.6)\n",
    "\"\"\"\n",
    "\n",
    "# insert instances in the ratings table\n",
    "insert_ratings_query = \"\"\"\n",
    "INSERT INTO ratings\n",
    "(rating, song_id)\n",
    "VALUES ( %s, %s)\n",
    "\"\"\"\n",
    "ratings_records = [(9.4, 3), (9.6, 1),\n",
    "                   (8.8, 4), (9.1, 2), (7.2, 5)]\n",
    "# execute insert commands\n",
    "cursor.execute(insert_songs)\n",
    "connection.commit()\n",
    "\n",
    "# set foreign key checks to false to avert error\n",
    "no_foreign_check = \"set foreign_key_checks=0\"\n",
    "cursor.execute(no_foreign_check)\n",
    "connection.commit()\n",
    "\n",
    "# insert instances in the ratings table\n",
    "cursor.executemany(insert_ratings_query, ratings_records)\n",
    "connection.commit()\n"
   ]
  },
  {
   "cell_type": "code",
   "execution_count": 30,
   "metadata": {},
   "outputs": [
    {
     "name": "stdout",
     "output_type": "stream",
     "text": [
      "(1, 'Kyun Dil Mera', 2015, 'Romance', Decimal('150.2'))\n",
      "(2, 'Sun zara', 2009, 'Feel Good', Decimal('20.4'))\n",
      "(3, 'Tera Woh Pyar', 2019, 'Romance', Decimal('63.5'))\n",
      "(4, 'Baarish', 2018, 'Feel Good', Decimal('140.1'))\n",
      "(5, 'Jee Le Zaraa', 2014, 'Sad', Decimal('123.6'))\n"
     ]
    }
   ],
   "source": [
    "# select or read records from songs table\n",
    "select_songs = \"SELECT * FROM songs\"\n",
    "cursor.execute(select_songs)\n",
    "result = cursor.fetchall()\n",
    "for row in result:\n",
    "    print(row)\n"
   ]
  },
  {
   "cell_type": "code",
   "execution_count": 31,
   "metadata": {},
   "outputs": [
    {
     "name": "stdout",
     "output_type": "stream",
     "text": [
      "(1, 'Kyun Dil Mera', 2015, 'Romance', Decimal('150.2'))\n",
      "(2, 'Sun zara', 2009, 'Feel Good', Decimal('20.4'))\n",
      "(3, 'Tera Woh Pyar', 2019, 'Romance', Decimal('63.5'))\n",
      "(4, 'Baarish', 2020, 'Feel Good', Decimal('140.1'))\n",
      "(5, 'Jee Le Zaraa', 2014, 'Sad', Decimal('123.6'))\n"
     ]
    }
   ],
   "source": [
    "# update records in songs table\n",
    "update_songs = \"\"\"\n",
    "UPDATE\n",
    "    songs\n",
    "SET\n",
    "    release_year = 2020\n",
    "WHERE\n",
    "    title = \"Baarish\"\n",
    "\"\"\"\n",
    "# execute update commands\n",
    "cursor.execute(update_songs)\n",
    "connection.commit()\n",
    "\n",
    "# show all records of songs table\n",
    "show_songs = \"SELECT * FROM songs\"\n",
    "cursor.execute(show_songs)\n",
    "result = cursor.fetchall()\n",
    "for row in result:\n",
    "    print(row)\n"
   ]
  },
  {
   "cell_type": "code",
   "execution_count": 32,
   "metadata": {},
   "outputs": [],
   "source": [
    "# create user with username 'ajay'\n",
    "create_user = \"CREATE USER 'ajay'@'localhost' IDENTIFIED BY 'password123'\"\n",
    "cursor.execute(create_user)\n",
    "connection.commit()\n",
    "\n",
    "# add all privileges to the user 'ajay' on all the tables of current database\n",
    "privilege_query = \"GRANT ALL PRIVILEGES ON assign2_18018.* TO 'ajay'@'localhost' WITH GRANT OPTION\"\n",
    "cursor.execute(privilege_query)\n",
    "connection.commit()\n",
    "\n",
    "# flush privileges\n",
    "privilege_flush = \"FLUSH PRIVILEGES\"\n",
    "cursor.execute(privilege_flush)\n",
    "connection.commit()\n"
   ]
  },
  {
   "cell_type": "code",
   "execution_count": 34,
   "metadata": {},
   "outputs": [
    {
     "name": "stdout",
     "output_type": "stream",
     "text": [
      "All users are listed as: \n",
      "('ajaycc17',)\n",
      "('ajay',)\n",
      "('mysql.infoschema',)\n",
      "('mysql.session',)\n",
      "('mysql.sys',)\n",
      "('root',)\n"
     ]
    }
   ],
   "source": [
    "# show all users\n",
    "show_users = \"SELECT user FROM mysql.user\"\n",
    "cursor.execute(show_users)\n",
    "result = cursor.fetchall()\n",
    "print(\"All users are listed as: \")\n",
    "for row in result:\n",
    "    print(row)\n"
   ]
  },
  {
   "cell_type": "code",
   "execution_count": 16,
   "metadata": {},
   "outputs": [
    {
     "name": "stdout",
     "output_type": "stream",
     "text": [
      "All users are listed as: \n",
      "('ajaycc17',)\n",
      "('mysql.infoschema',)\n",
      "('mysql.session',)\n",
      "('mysql.sys',)\n",
      "('root',)\n"
     ]
    }
   ],
   "source": [
    "# drop or delete an user\n",
    "drop_user = \"DROP USER 'ajay'@'localhost'\"\n",
    "cursor.execute(drop_user)\n",
    "connection.commit()\n",
    "\n",
    "# show all users\n",
    "show_users = \"SELECT user FROM mysql.user\"\n",
    "cursor.execute(show_users)\n",
    "result = cursor.fetchall()\n",
    "print(\"All users are listed as: \")\n",
    "for row in result:\n",
    "    print(row)\n"
   ]
  },
  {
   "cell_type": "code",
   "execution_count": 17,
   "metadata": {},
   "outputs": [
    {
     "name": "stdout",
     "output_type": "stream",
     "text": [
      "('information_schema',)\n",
      "('mysql',)\n",
      "('performance_schema',)\n",
      "('sakila',)\n",
      "('sys',)\n",
      "('world',)\n"
     ]
    }
   ],
   "source": [
    "# drop the database just created\n",
    "try:\n",
    "    with connect(\n",
    "        host=\"localhost\",\n",
    "        user=user,\n",
    "        password=passwd,\n",
    "    ) as connection:\n",
    "        list_all_db = \"SHOW DATABASES\"\n",
    "        drop_db = \"DROP DATABASE assign2_18018\"\n",
    "        with connection.cursor() as cursor:\n",
    "            cursor.execute(drop_db)\n",
    "            connection.commit()\n",
    "\n",
    "            # show all databases\n",
    "            cursor.execute(list_all_db)\n",
    "            for db in cursor:\n",
    "                print(db)\n",
    "except Error as e:\n",
    "    print(e)\n"
   ]
  },
  {
   "cell_type": "code",
   "execution_count": 18,
   "metadata": {},
   "outputs": [],
   "source": [
    "# close the connection and disconnect from mysql\n",
    "connection.close()\n"
   ]
  },
  {
   "cell_type": "code",
   "execution_count": null,
   "metadata": {},
   "outputs": [],
   "source": []
  }
 ],
 "metadata": {
  "kernelspec": {
   "display_name": "Python 3.10.5 64-bit",
   "language": "python",
   "name": "python3"
  },
  "language_info": {
   "codemirror_mode": {
    "name": "ipython",
    "version": 3
   },
   "file_extension": ".py",
   "mimetype": "text/x-python",
   "name": "python",
   "nbconvert_exporter": "python",
   "pygments_lexer": "ipython3",
   "version": "3.10.6"
  },
  "orig_nbformat": 4,
  "vscode": {
   "interpreter": {
    "hash": "234d8f22051795bf2582dd28af717fc0c5380090595438607d2b36e073f26b6f"
   }
  }
 },
 "nbformat": 4,
 "nbformat_minor": 2
}
